{
 "cells": [
  {
   "cell_type": "code",
   "execution_count": 1,
   "metadata": {},
   "outputs": [
    {
     "name": "stdout",
     "output_type": "stream",
     "text": [
      "torch.Size([5, 32, 256]) torch.Size([1, 32, 256])\n"
     ]
    }
   ],
   "source": [
    "import torch\n",
    "import torch.nn as nn\n",
    "\n",
    "# input_size:词向量维度\n",
    "# hidden_size: 隐藏状态向量维度\n",
    "# num_layers: 隐藏层数量\n",
    "rnn = nn.RNN(input_size=128, hidden_size=256, num_layers=1)\n",
    "\n",
    "# (5, 32, 128) -> 每个句子的词个数(每个样本有5个时间步), 句子数, 词向量维度\n",
    "x = torch.randn(size=(5, 32, 128))\n",
    "# (1, 32, 256) -> 隐藏层数量, 句子数, 隐藏状态向量维度\n",
    "h0 = torch.randn(size=(1, 32, 256))\n",
    "\n",
    "output, h1 = rnn(x, h0)\n",
    "print(output.shape, h1.shape)"
   ]
  },
  {
   "cell_type": "code",
   "execution_count": null,
   "metadata": {},
   "outputs": [],
   "source": []
  }
 ],
 "metadata": {
  "kernelspec": {
   "display_name": "AI",
   "language": "python",
   "name": "python3"
  },
  "language_info": {
   "codemirror_mode": {
    "name": "ipython",
    "version": 3
   },
   "file_extension": ".py",
   "mimetype": "text/x-python",
   "name": "python",
   "nbconvert_exporter": "python",
   "pygments_lexer": "ipython3",
   "version": "3.11.1"
  }
 },
 "nbformat": 4,
 "nbformat_minor": 2
}
