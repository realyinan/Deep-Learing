{
 "cells": [
  {
   "cell_type": "code",
   "execution_count": 1,
   "metadata": {},
   "outputs": [
    {
     "name": "stdout",
     "output_type": "stream",
     "text": [
      "torch.Size([6, 8])\n",
      "tensor([[ 0.7190, -0.3300,  0.2676, -0.6481,  0.4553, -1.4495, -0.8151, -0.4484],\n",
      "        [-1.3762,  0.7708, -0.2805,  1.2917,  0.6083, -0.4330, -0.9241, -0.0830],\n",
      "        [-0.5306,  1.2346, -0.4786, -0.3805, -0.4965,  1.4611, -0.5782, -1.6577],\n",
      "        [ 0.8986,  0.6371, -0.0171, -0.9284,  1.0541, -0.4890, -0.3157, -0.6683],\n",
      "        [ 0.4636,  0.0185, -1.2511, -1.5405, -1.2343,  0.2132, -0.4311, -0.0645],\n",
      "        [-0.3319,  1.5126, -1.7881,  0.6072,  0.4990,  0.8537,  0.9949, -0.4774]],\n",
      "       grad_fn=<EmbeddingBackward0>)\n"
     ]
    }
   ],
   "source": [
    "import torch\n",
    "import torch.nn as nn\n",
    "\n",
    "# 创建一个 embedding 层：词表大小是 1000，每个词编码成 8 维向量\n",
    "embedding = nn.Embedding(num_embeddings=1000, embedding_dim=8)\n",
    "\n",
    "# 假设我们输入了一个词索引序列\n",
    "input_idx = torch.tensor([4, 8, 15, 16, 23, 42])  # shape: (seq_len,)\n",
    "\n",
    "# 调用嵌入层，把索引转换为向量\n",
    "embedded = embedding(input_idx)\n",
    "\n",
    "print(embedded.shape)  # torch.Size([6, 64])\n",
    "print(embedded)\n"
   ]
  },
  {
   "cell_type": "code",
   "execution_count": 2,
   "metadata": {},
   "outputs": [
    {
     "name": "stdout",
     "output_type": "stream",
     "text": [
      "torch.Size([2, 3, 8])\n",
      "tensor([[[ 0.7190, -0.3300,  0.2676, -0.6481,  0.4553, -1.4495, -0.8151,\n",
      "          -0.4484],\n",
      "         [-1.3762,  0.7708, -0.2805,  1.2917,  0.6083, -0.4330, -0.9241,\n",
      "          -0.0830],\n",
      "         [-0.5306,  1.2346, -0.4786, -0.3805, -0.4965,  1.4611, -0.5782,\n",
      "          -1.6577]],\n",
      "\n",
      "        [[ 0.8986,  0.6371, -0.0171, -0.9284,  1.0541, -0.4890, -0.3157,\n",
      "          -0.6683],\n",
      "         [ 0.4636,  0.0185, -1.2511, -1.5405, -1.2343,  0.2132, -0.4311,\n",
      "          -0.0645],\n",
      "         [-0.3319,  1.5126, -1.7881,  0.6072,  0.4990,  0.8537,  0.9949,\n",
      "          -0.4774]]], grad_fn=<EmbeddingBackward0>)\n"
     ]
    }
   ],
   "source": [
    "input_idx = torch.tensor([\n",
    "    [4, 8, 15],\n",
    "    [16, 23, 42]\n",
    "])  # shape: (batch_size=2, seq_len=3)\n",
    "\n",
    "embedded = embedding(input_idx)\n",
    "\n",
    "print(embedded.shape)  # torch.Size([2, 3, 64])\n",
    "print(embedded)"
   ]
  },
  {
   "cell_type": "markdown",
   "metadata": {},
   "source": [
    "### nn.Embedding 只处理“索引 → 向量”的映射，不管这些索引代表什么词。"
   ]
  }
 ],
 "metadata": {
  "kernelspec": {
   "display_name": "AI",
   "language": "python",
   "name": "python3"
  },
  "language_info": {
   "codemirror_mode": {
    "name": "ipython",
    "version": 3
   },
   "file_extension": ".py",
   "mimetype": "text/x-python",
   "name": "python",
   "nbconvert_exporter": "python",
   "pygments_lexer": "ipython3",
   "version": "3.11.1"
  }
 },
 "nbformat": 4,
 "nbformat_minor": 2
}
