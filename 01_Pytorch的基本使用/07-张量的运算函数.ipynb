{
 "cells": [
  {
   "cell_type": "code",
   "execution_count": 1,
   "id": "initial_id",
   "metadata": {
    "ExecuteTime": {
     "end_time": "2025-03-25T02:18:50.993564Z",
     "start_time": "2025-03-25T02:18:49.723875Z"
    },
    "collapsed": true
   },
   "outputs": [],
   "source": [
    "import torch"
   ]
  },
  {
   "cell_type": "code",
   "execution_count": 2,
   "id": "eebf063698141591",
   "metadata": {
    "ExecuteTime": {
     "end_time": "2025-03-25T02:18:55.419795Z",
     "start_time": "2025-03-25T02:18:55.414510Z"
    }
   },
   "outputs": [],
   "source": [
    "t1 = torch.tensor(data=[\n",
    "    [1., 2, 3, 4],\n",
    "    [5, 6, 7, 8]\n",
    "])"
   ]
  },
  {
   "cell_type": "code",
   "execution_count": 3,
   "id": "97a2c408f7e285d1",
   "metadata": {
    "ExecuteTime": {
     "end_time": "2025-03-25T02:18:56.281588Z",
     "start_time": "2025-03-25T02:18:56.271168Z"
    }
   },
   "outputs": [
    {
     "data": {
      "text/plain": [
       "tensor(4.5000)"
      ]
     },
     "execution_count": 3,
     "metadata": {},
     "output_type": "execute_result"
    }
   ],
   "source": [
    "t1.mean()"
   ]
  },
  {
   "cell_type": "code",
   "execution_count": 4,
   "id": "ebc27e789074e22d",
   "metadata": {
    "ExecuteTime": {
     "end_time": "2025-03-25T02:18:59.067847Z",
     "start_time": "2025-03-25T02:18:59.062153Z"
    }
   },
   "outputs": [
    {
     "data": {
      "text/plain": [
       "tensor([3., 4., 5., 6.])"
      ]
     },
     "execution_count": 4,
     "metadata": {},
     "output_type": "execute_result"
    }
   ],
   "source": [
    "t1.mean(dim=0)  # 按列运算"
   ]
  },
  {
   "cell_type": "code",
   "execution_count": 5,
   "id": "120e1a58d68fe72b",
   "metadata": {
    "ExecuteTime": {
     "end_time": "2025-03-25T02:19:06.647950Z",
     "start_time": "2025-03-25T02:19:06.643310Z"
    }
   },
   "outputs": [
    {
     "data": {
      "text/plain": [
       "tensor([2.5000, 6.5000])"
      ]
     },
     "execution_count": 5,
     "metadata": {},
     "output_type": "execute_result"
    }
   ],
   "source": [
    "t1.mean(dim=1)  # 按行运算"
   ]
  },
  {
   "cell_type": "code",
   "execution_count": 6,
   "id": "cc23b1701ea7e963",
   "metadata": {
    "ExecuteTime": {
     "end_time": "2025-03-25T02:19:09.261596Z",
     "start_time": "2025-03-25T02:19:09.256152Z"
    }
   },
   "outputs": [
    {
     "data": {
      "text/plain": [
       "tensor(36.)"
      ]
     },
     "execution_count": 6,
     "metadata": {},
     "output_type": "execute_result"
    }
   ],
   "source": [
    "t1.sum()"
   ]
  },
  {
   "cell_type": "code",
   "execution_count": 7,
   "id": "6e663150b586ae71",
   "metadata": {
    "ExecuteTime": {
     "end_time": "2025-03-25T02:19:10.518553Z",
     "start_time": "2025-03-25T02:19:10.513149Z"
    }
   },
   "outputs": [
    {
     "data": {
      "text/plain": [
       "tensor([ 6.,  8., 10., 12.])"
      ]
     },
     "execution_count": 7,
     "metadata": {},
     "output_type": "execute_result"
    }
   ],
   "source": [
    "t1.sum(dim=0)"
   ]
  },
  {
   "cell_type": "code",
   "execution_count": 8,
   "id": "d5cf975925c8482f",
   "metadata": {
    "ExecuteTime": {
     "end_time": "2025-03-25T02:19:10.971811Z",
     "start_time": "2025-03-25T02:19:10.967294Z"
    }
   },
   "outputs": [
    {
     "data": {
      "text/plain": [
       "tensor([10., 26.])"
      ]
     },
     "execution_count": 8,
     "metadata": {},
     "output_type": "execute_result"
    }
   ],
   "source": [
    "t1.sum(dim=1)"
   ]
  },
  {
   "cell_type": "code",
   "execution_count": 9,
   "id": "38391dbee1f47835",
   "metadata": {
    "ExecuteTime": {
     "end_time": "2025-03-25T02:19:13.283519Z",
     "start_time": "2025-03-25T02:19:13.273416Z"
    }
   },
   "outputs": [
    {
     "data": {
      "text/plain": [
       "tensor([[1.0000, 1.4142, 1.7321, 2.0000],\n",
       "        [2.2361, 2.4495, 2.6458, 2.8284]])"
      ]
     },
     "execution_count": 9,
     "metadata": {},
     "output_type": "execute_result"
    }
   ],
   "source": [
    "t1.sqrt()  # 开方"
   ]
  },
  {
   "cell_type": "code",
   "execution_count": 10,
   "id": "2a25ed413ae2c0c8",
   "metadata": {
    "ExecuteTime": {
     "end_time": "2025-03-25T02:19:16.109435Z",
     "start_time": "2025-03-25T02:19:16.094429Z"
    }
   },
   "outputs": [
    {
     "data": {
      "text/plain": [
       "tensor([[1.0000, 1.4142, 1.7321, 2.0000],\n",
       "        [2.2361, 2.4495, 2.6458, 2.8284]])"
      ]
     },
     "execution_count": 10,
     "metadata": {},
     "output_type": "execute_result"
    }
   ],
   "source": [
    "torch.sqrt(input=t1)"
   ]
  },
  {
   "cell_type": "code",
   "execution_count": 11,
   "id": "dc4323045f121b9d",
   "metadata": {
    "ExecuteTime": {
     "end_time": "2025-03-25T02:19:18.267284Z",
     "start_time": "2025-03-25T02:19:18.252989Z"
    }
   },
   "outputs": [
    {
     "data": {
      "text/plain": [
       "tensor([[ 1.,  4.,  9., 16.],\n",
       "        [25., 36., 49., 64.]])"
      ]
     },
     "execution_count": 11,
     "metadata": {},
     "output_type": "execute_result"
    }
   ],
   "source": [
    "t1.pow(2)  # 幂次方运算"
   ]
  },
  {
   "cell_type": "code",
   "execution_count": 12,
   "id": "ca903c0086a815c0",
   "metadata": {
    "ExecuteTime": {
     "end_time": "2025-03-25T02:19:19.915517Z",
     "start_time": "2025-03-25T02:19:19.908501Z"
    }
   },
   "outputs": [
    {
     "data": {
      "text/plain": [
       "tensor([[  1.,   8.,  27.,  64.],\n",
       "        [125., 216., 343., 512.]])"
      ]
     },
     "execution_count": 12,
     "metadata": {},
     "output_type": "execute_result"
    }
   ],
   "source": [
    "torch.pow(input=t1, exponent=3)"
   ]
  },
  {
   "cell_type": "code",
   "execution_count": 13,
   "id": "49fd720269ab0f5",
   "metadata": {
    "ExecuteTime": {
     "end_time": "2025-03-25T02:19:50.598286Z",
     "start_time": "2025-03-25T02:19:50.591123Z"
    }
   },
   "outputs": [
    {
     "data": {
      "text/plain": [
       "tensor([[2.7183e+00, 7.3891e+00, 2.0086e+01, 5.4598e+01],\n",
       "        [1.4841e+02, 4.0343e+02, 1.0966e+03, 2.9810e+03]])"
      ]
     },
     "execution_count": 13,
     "metadata": {},
     "output_type": "execute_result"
    }
   ],
   "source": [
    "t1.exp()  # e^x 张量的元素值为x"
   ]
  },
  {
   "cell_type": "code",
   "execution_count": 14,
   "id": "c8f04f0ab73ff78f",
   "metadata": {
    "ExecuteTime": {
     "end_time": "2025-03-25T02:19:50.962952Z",
     "start_time": "2025-03-25T02:19:50.948350Z"
    }
   },
   "outputs": [
    {
     "data": {
      "text/plain": [
       "tensor([[2.7183e+00, 7.3891e+00, 2.0086e+01, 5.4598e+01],\n",
       "        [1.4841e+02, 4.0343e+02, 1.0966e+03, 2.9810e+03]])"
      ]
     },
     "execution_count": 14,
     "metadata": {},
     "output_type": "execute_result"
    }
   ],
   "source": [
    "torch.exp(input=t1)"
   ]
  },
  {
   "cell_type": "code",
   "execution_count": 15,
   "id": "7ed9599846f62574",
   "metadata": {
    "ExecuteTime": {
     "end_time": "2025-03-25T02:19:51.688824Z",
     "start_time": "2025-03-25T02:19:51.672310Z"
    }
   },
   "outputs": [
    {
     "data": {
      "text/plain": [
       "tensor([[0.0000, 0.6931, 1.0986, 1.3863],\n",
       "        [1.6094, 1.7918, 1.9459, 2.0794]])"
      ]
     },
     "execution_count": 15,
     "metadata": {},
     "output_type": "execute_result"
    }
   ],
   "source": [
    "t1.log()"
   ]
  },
  {
   "cell_type": "code",
   "execution_count": 16,
   "id": "b1136b14ae97a24",
   "metadata": {
    "ExecuteTime": {
     "end_time": "2025-03-25T02:19:57.695076Z",
     "start_time": "2025-03-25T02:19:57.679279Z"
    }
   },
   "outputs": [
    {
     "data": {
      "text/plain": [
       "tensor([[0.0000, 0.6931, 1.0986, 1.3863],\n",
       "        [1.6094, 1.7918, 1.9459, 2.0794]])"
      ]
     },
     "execution_count": 16,
     "metadata": {},
     "output_type": "execute_result"
    }
   ],
   "source": [
    "torch.log(input=t1)  # 默认以e为底"
   ]
  },
  {
   "cell_type": "code",
   "execution_count": 17,
   "id": "a96722c5386bf814",
   "metadata": {
    "ExecuteTime": {
     "end_time": "2025-03-25T02:20:00.467131Z",
     "start_time": "2025-03-25T02:20:00.451860Z"
    }
   },
   "outputs": [
    {
     "data": {
      "text/plain": [
       "tensor([[0.0000, 1.0000, 1.5850, 2.0000],\n",
       "        [2.3219, 2.5850, 2.8074, 3.0000]])"
      ]
     },
     "execution_count": 17,
     "metadata": {},
     "output_type": "execute_result"
    }
   ],
   "source": [
    "t1.log2()"
   ]
  },
  {
   "cell_type": "code",
   "execution_count": 18,
   "id": "3788416af23fa1c1",
   "metadata": {
    "ExecuteTime": {
     "end_time": "2025-03-25T02:20:01.300026Z",
     "start_time": "2025-03-25T02:20:01.284427Z"
    }
   },
   "outputs": [
    {
     "data": {
      "text/plain": [
       "tensor([[0.0000, 0.3010, 0.4771, 0.6021],\n",
       "        [0.6990, 0.7782, 0.8451, 0.9031]])"
      ]
     },
     "execution_count": 18,
     "metadata": {},
     "output_type": "execute_result"
    }
   ],
   "source": [
    "t1.log10()"
   ]
  },
  {
   "cell_type": "code",
   "execution_count": 19,
   "id": "7fb9e562c691e217",
   "metadata": {
    "ExecuteTime": {
     "end_time": "2025-03-25T02:20:02.950742Z",
     "start_time": "2025-03-25T02:20:02.944839Z"
    }
   },
   "outputs": [
    {
     "data": {
      "text/plain": [
       "tensor([[0.0000, 1.0000, 1.5850, 2.0000],\n",
       "        [2.3219, 2.5850, 2.8074, 3.0000]])"
      ]
     },
     "execution_count": 19,
     "metadata": {},
     "output_type": "execute_result"
    }
   ],
   "source": [
    "torch.log2(input=t1)"
   ]
  }
 ],
 "metadata": {
  "kernelspec": {
   "display_name": "AI",
   "language": "python",
   "name": "python3"
  },
  "language_info": {
   "codemirror_mode": {
    "name": "ipython",
    "version": 2
   },
   "file_extension": ".py",
   "mimetype": "text/x-python",
   "name": "python",
   "nbconvert_exporter": "python",
   "pygments_lexer": "ipython2",
   "version": "3.11.1"
  }
 },
 "nbformat": 4,
 "nbformat_minor": 5
}
