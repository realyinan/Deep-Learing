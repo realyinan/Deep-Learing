{
 "cells": [
  {
   "cell_type": "code",
   "execution_count": 2,
   "id": "initial_id",
   "metadata": {
    "ExecuteTime": {
     "end_time": "2025-03-25T02:28:42.501928Z",
     "start_time": "2025-03-25T02:28:41.223926Z"
    },
    "collapsed": true
   },
   "outputs": [],
   "source": [
    "import torch"
   ]
  },
  {
   "cell_type": "markdown",
   "id": "b5bc3d478706e71e",
   "metadata": {},
   "source": [
    "## shape函数"
   ]
  },
  {
   "cell_type": "code",
   "execution_count": 3,
   "id": "e9cde341ab2edaaa",
   "metadata": {
    "ExecuteTime": {
     "end_time": "2025-03-25T02:31:35.024682Z",
     "start_time": "2025-03-25T02:31:35.015081Z"
    }
   },
   "outputs": [
    {
     "data": {
      "text/plain": [
       "tensor([[4, 9, 3, 0, 3, 9],\n",
       "        [7, 3, 7, 3, 1, 6],\n",
       "        [6, 9, 8, 6, 6, 8],\n",
       "        [4, 3, 6, 9, 1, 4],\n",
       "        [4, 1, 9, 9, 9, 0]])"
      ]
     },
     "execution_count": 3,
     "metadata": {},
     "output_type": "execute_result"
    }
   ],
   "source": [
    "torch.manual_seed(0)\n",
    "data = torch.randint(0, 10, size=(5, 6))\n",
    "data"
   ]
  },
  {
   "cell_type": "code",
   "execution_count": 4,
   "id": "395130f6e9ea42bc",
   "metadata": {
    "ExecuteTime": {
     "end_time": "2025-03-25T02:33:09.882711Z",
     "start_time": "2025-03-25T02:33:09.877712Z"
    }
   },
   "outputs": [
    {
     "data": {
      "text/plain": [
       "tensor([[4, 9, 3, 0, 3, 9, 7, 3, 7, 3, 1, 6, 6, 9, 8],\n",
       "        [6, 6, 8, 4, 3, 6, 9, 1, 4, 4, 1, 9, 9, 9, 0]])"
      ]
     },
     "execution_count": 4,
     "metadata": {},
     "output_type": "execute_result"
    }
   ],
   "source": [
    "# reshape 修改连续或非连续张量的形状, 不改数据\n",
    "data.reshape(shape=(2, 15))"
   ]
  },
  {
   "cell_type": "code",
   "execution_count": 5,
   "id": "8fda47b552bd0104",
   "metadata": {
    "ExecuteTime": {
     "end_time": "2025-03-25T02:33:44.616646Z",
     "start_time": "2025-03-25T02:33:44.611632Z"
    }
   },
   "outputs": [
    {
     "data": {
      "text/plain": [
       "tensor([[4, 9, 3, 0, 3, 9, 7, 3, 7, 3, 1, 6, 6, 9, 8],\n",
       "        [6, 6, 8, 4, 3, 6, 9, 1, 4, 4, 1, 9, 9, 9, 0]])"
      ]
     },
     "execution_count": 5,
     "metadata": {},
     "output_type": "execute_result"
    }
   ],
   "source": [
    "data.reshape(shape=(-1, 15))  # -1 会自动计算"
   ]
  },
  {
   "cell_type": "markdown",
   "id": "e8a021e45a225a10",
   "metadata": {},
   "source": [
    "## squeeze和unsqueeze函数"
   ]
  },
  {
   "cell_type": "code",
   "execution_count": 6,
   "id": "50641ee7ab24c829",
   "metadata": {
    "ExecuteTime": {
     "end_time": "2025-03-25T02:43:25.958086Z",
     "start_time": "2025-03-25T02:43:25.955295Z"
    }
   },
   "outputs": [],
   "source": [
    "# squeeze 指定需要压缩的维度（该维度必须大小为1）。如果不指定，则去掉所有维度大小为1的维度。\n",
    "# unsqueeze 在指定位置插入一个大小为1的新维度。\n",
    "# 维度的大小（dimension size）是指张量（Tensor）或数组（Array）在某一个维度上的元素个数。"
   ]
  },
  {
   "cell_type": "code",
   "execution_count": 7,
   "id": "ff3e1cc2c309c8f9",
   "metadata": {
    "ExecuteTime": {
     "end_time": "2025-03-25T03:05:54.063431Z",
     "start_time": "2025-03-25T03:05:54.057871Z"
    }
   },
   "outputs": [
    {
     "data": {
      "text/plain": [
       "tensor([[[[1],\n",
       "          [2]]],\n",
       "\n",
       "\n",
       "        [[[3],\n",
       "          [0]]],\n",
       "\n",
       "\n",
       "        [[[5],\n",
       "          [5]]]])"
      ]
     },
     "execution_count": 7,
     "metadata": {},
     "output_type": "execute_result"
    }
   ],
   "source": [
    "data = torch.randint(0, 10, size=(3, 1, 2, 1))\n",
    "data"
   ]
  },
  {
   "cell_type": "code",
   "execution_count": 8,
   "id": "8487b98c613184a3",
   "metadata": {
    "ExecuteTime": {
     "end_time": "2025-03-25T03:06:10.021682Z",
     "start_time": "2025-03-25T03:06:10.017186Z"
    }
   },
   "outputs": [
    {
     "data": {
      "text/plain": [
       "torch.Size([3, 1, 2, 1])"
      ]
     },
     "execution_count": 8,
     "metadata": {},
     "output_type": "execute_result"
    }
   ],
   "source": [
    "data.shape"
   ]
  },
  {
   "cell_type": "code",
   "execution_count": 9,
   "id": "b8874fc3f4d008fb",
   "metadata": {
    "ExecuteTime": {
     "end_time": "2025-03-25T03:16:54.258561Z",
     "start_time": "2025-03-25T03:16:54.254212Z"
    }
   },
   "outputs": [
    {
     "data": {
      "text/plain": [
       "tensor([[1, 2],\n",
       "        [3, 0],\n",
       "        [5, 5]])"
      ]
     },
     "execution_count": 9,
     "metadata": {},
     "output_type": "execute_result"
    }
   ],
   "source": [
    "torch.squeeze(input=data)"
   ]
  },
  {
   "cell_type": "code",
   "execution_count": 10,
   "id": "51c8967d1877b910",
   "metadata": {
    "ExecuteTime": {
     "end_time": "2025-03-25T03:21:32.291655Z",
     "start_time": "2025-03-25T03:21:32.287137Z"
    }
   },
   "outputs": [
    {
     "data": {
      "text/plain": [
       "torch.Size([3, 2, 1])"
      ]
     },
     "execution_count": 10,
     "metadata": {},
     "output_type": "execute_result"
    }
   ],
   "source": [
    "torch.squeeze(input=data, dim=1).shape"
   ]
  },
  {
   "cell_type": "code",
   "execution_count": 11,
   "id": "77996e054a9943d7",
   "metadata": {
    "ExecuteTime": {
     "end_time": "2025-03-25T03:24:51.060652Z",
     "start_time": "2025-03-25T03:24:51.056180Z"
    }
   },
   "outputs": [
    {
     "data": {
      "text/plain": [
       "torch.Size([3, 1, 2, 1])"
      ]
     },
     "execution_count": 11,
     "metadata": {},
     "output_type": "execute_result"
    }
   ],
   "source": [
    "torch.squeeze(input=data, dim=2).shape"
   ]
  },
  {
   "cell_type": "code",
   "execution_count": 12,
   "id": "70099b1cc1172bf3",
   "metadata": {
    "ExecuteTime": {
     "end_time": "2025-03-25T03:29:01.958341Z",
     "start_time": "2025-03-25T03:29:01.953840Z"
    }
   },
   "outputs": [
    {
     "data": {
      "text/plain": [
       "torch.Size([3, 1, 2])"
      ]
     },
     "execution_count": 12,
     "metadata": {},
     "output_type": "execute_result"
    }
   ],
   "source": [
    "torch.squeeze(input=data, dim=3).shape"
   ]
  },
  {
   "cell_type": "code",
   "execution_count": 13,
   "id": "8e438bef41795a2",
   "metadata": {
    "ExecuteTime": {
     "end_time": "2025-03-25T03:31:55.743478Z",
     "start_time": "2025-03-25T03:31:55.738261Z"
    }
   },
   "outputs": [
    {
     "data": {
      "text/plain": [
       "tensor([[2, 9],\n",
       "        [1, 8],\n",
       "        [8, 3]])"
      ]
     },
     "execution_count": 13,
     "metadata": {},
     "output_type": "execute_result"
    }
   ],
   "source": [
    "data = torch.randint(0, 10, size=(3, 2))\n",
    "data"
   ]
  },
  {
   "cell_type": "code",
   "execution_count": 14,
   "id": "36922dda87ec507e",
   "metadata": {
    "ExecuteTime": {
     "end_time": "2025-03-25T03:34:07.364892Z",
     "start_time": "2025-03-25T03:34:07.360883Z"
    }
   },
   "outputs": [
    {
     "data": {
      "text/plain": [
       "torch.Size([3, 2, 1])"
      ]
     },
     "execution_count": 14,
     "metadata": {},
     "output_type": "execute_result"
    }
   ],
   "source": [
    "data.unsqueeze(dim=2).shape"
   ]
  },
  {
   "cell_type": "code",
   "execution_count": 15,
   "id": "d602d44a394ad6e9",
   "metadata": {
    "ExecuteTime": {
     "end_time": "2025-03-25T03:34:41.379514Z",
     "start_time": "2025-03-25T03:34:41.375164Z"
    }
   },
   "outputs": [
    {
     "data": {
      "text/plain": [
       "torch.Size([1, 3, 2])"
      ]
     },
     "execution_count": 15,
     "metadata": {},
     "output_type": "execute_result"
    }
   ],
   "source": [
    "data.unsqueeze(dim=0).shape"
   ]
  },
  {
   "cell_type": "code",
   "execution_count": 16,
   "id": "6bf3ea760ec00435",
   "metadata": {
    "ExecuteTime": {
     "end_time": "2025-03-25T03:35:08.869806Z",
     "start_time": "2025-03-25T03:35:08.864829Z"
    }
   },
   "outputs": [
    {
     "data": {
      "text/plain": [
       "torch.Size([3, 2, 1])"
      ]
     },
     "execution_count": 16,
     "metadata": {},
     "output_type": "execute_result"
    }
   ],
   "source": [
    "data.unsqueeze(dim=-1).shape"
   ]
  },
  {
   "cell_type": "markdown",
   "id": "d4003dc562f30fdd",
   "metadata": {},
   "source": [
    "## transpose和permute函数"
   ]
  },
  {
   "cell_type": "code",
   "execution_count": 17,
   "id": "de83b3dcb9319c0e",
   "metadata": {
    "ExecuteTime": {
     "end_time": "2025-03-25T03:44:31.095494Z",
     "start_time": "2025-03-25T03:44:31.090562Z"
    }
   },
   "outputs": [
    {
     "data": {
      "text/plain": [
       "tensor([[[6, 9, 1, 7, 3],\n",
       "         [5, 2, 1, 0, 9],\n",
       "         [3, 1, 1, 0, 3],\n",
       "         [6, 6, 7, 9, 6]],\n",
       "\n",
       "        [[3, 4, 5, 0, 8],\n",
       "         [2, 8, 2, 7, 5],\n",
       "         [0, 0, 8, 1, 9],\n",
       "         [6, 1, 0, 2, 9]],\n",
       "\n",
       "        [[4, 3, 9, 3, 9],\n",
       "         [3, 9, 8, 5, 3],\n",
       "         [2, 8, 5, 6, 6],\n",
       "         [5, 7, 2, 5, 6]]])"
      ]
     },
     "execution_count": 17,
     "metadata": {},
     "output_type": "execute_result"
    }
   ],
   "source": [
    "# permute 改变张量任意维度顺序\n",
    "# transpose 改变张量两个维度的顺序\n",
    "data = torch.randint(0, 10, size=(3, 4, 5))\n",
    "data"
   ]
  },
  {
   "cell_type": "code",
   "execution_count": 18,
   "id": "54d40f8f40cf11ff",
   "metadata": {
    "ExecuteTime": {
     "end_time": "2025-03-25T03:44:46.758932Z",
     "start_time": "2025-03-25T03:44:46.755316Z"
    }
   },
   "outputs": [
    {
     "data": {
      "text/plain": [
       "torch.Size([3, 4, 5])"
      ]
     },
     "execution_count": 18,
     "metadata": {},
     "output_type": "execute_result"
    }
   ],
   "source": [
    "data.shape"
   ]
  },
  {
   "cell_type": "code",
   "execution_count": 19,
   "id": "75a7119564752472",
   "metadata": {
    "ExecuteTime": {
     "end_time": "2025-03-25T03:45:41.089250Z",
     "start_time": "2025-03-25T03:45:41.085238Z"
    }
   },
   "outputs": [
    {
     "data": {
      "text/plain": [
       "torch.Size([4, 3, 5])"
      ]
     },
     "execution_count": 19,
     "metadata": {},
     "output_type": "execute_result"
    }
   ],
   "source": [
    "data.transpose(dim0=1, dim1=0).shape"
   ]
  },
  {
   "cell_type": "code",
   "execution_count": 20,
   "id": "513792f060e5b19c",
   "metadata": {
    "ExecuteTime": {
     "end_time": "2025-03-25T03:47:17.370543Z",
     "start_time": "2025-03-25T03:47:17.365157Z"
    }
   },
   "outputs": [
    {
     "data": {
      "text/plain": [
       "torch.Size([4, 5, 3])"
      ]
     },
     "execution_count": 20,
     "metadata": {},
     "output_type": "execute_result"
    }
   ],
   "source": [
    "data.permute(dims=(1, 2, 0)).shape"
   ]
  },
  {
   "cell_type": "markdown",
   "id": "916a05ee",
   "metadata": {},
   "source": [
    "## view和contiguous函数"
   ]
  },
  {
   "cell_type": "code",
   "execution_count": 21,
   "id": "a03f1491",
   "metadata": {},
   "outputs": [
    {
     "data": {
      "text/plain": [
       "tensor([[6, 5, 4, 0],\n",
       "        [8, 1, 7, 8],\n",
       "        [5, 4, 4, 8]])"
      ]
     },
     "execution_count": 21,
     "metadata": {},
     "output_type": "execute_result"
    }
   ],
   "source": [
    "# 一个 contiguous（连续） 的张量意味着它在内存中的元素是按照 行优先（C-style）顺序排列 的，中间没有跳跃、重排。\n",
    "# view() 修改连续张量的形状, 和reshape类似\n",
    "data = torch.randint(0, 10, size=(3, 4))\n",
    "data"
   ]
  },
  {
   "cell_type": "code",
   "execution_count": 22,
   "id": "b4317c1b",
   "metadata": {},
   "outputs": [
    {
     "data": {
      "text/plain": [
       "True"
      ]
     },
     "execution_count": 22,
     "metadata": {},
     "output_type": "execute_result"
    }
   ],
   "source": [
    "data.is_contiguous()"
   ]
  },
  {
   "cell_type": "code",
   "execution_count": 23,
   "id": "a9bd6f1b",
   "metadata": {},
   "outputs": [
    {
     "data": {
      "text/plain": [
       "torch.Size([2, 6])"
      ]
     },
     "execution_count": 23,
     "metadata": {},
     "output_type": "execute_result"
    }
   ],
   "source": [
    "data.view(2, 6).shape"
   ]
  },
  {
   "cell_type": "code",
   "execution_count": 24,
   "id": "36704a61",
   "metadata": {},
   "outputs": [
    {
     "data": {
      "text/plain": [
       "True"
      ]
     },
     "execution_count": 24,
     "metadata": {},
     "output_type": "execute_result"
    }
   ],
   "source": [
    "data.view(2, 6).is_contiguous()"
   ]
  },
  {
   "cell_type": "code",
   "execution_count": 25,
   "id": "21e85889",
   "metadata": {},
   "outputs": [
    {
     "data": {
      "text/plain": [
       "torch.Size([4, 3])"
      ]
     },
     "execution_count": 25,
     "metadata": {},
     "output_type": "execute_result"
    }
   ],
   "source": [
    "data.transpose(1, 0).shape"
   ]
  },
  {
   "cell_type": "code",
   "execution_count": 26,
   "id": "1cd01031",
   "metadata": {},
   "outputs": [
    {
     "data": {
      "text/plain": [
       "False"
      ]
     },
     "execution_count": 26,
     "metadata": {},
     "output_type": "execute_result"
    }
   ],
   "source": [
    "data.transpose(1, 0).is_contiguous()"
   ]
  },
  {
   "cell_type": "code",
   "execution_count": 27,
   "id": "613fe30a",
   "metadata": {},
   "outputs": [
    {
     "data": {
      "text/plain": [
       "True"
      ]
     },
     "execution_count": 27,
     "metadata": {},
     "output_type": "execute_result"
    }
   ],
   "source": [
    "data.transpose(1, 0).contiguous().is_contiguous()"
   ]
  },
  {
   "cell_type": "code",
   "execution_count": 30,
   "id": "5680fd5e",
   "metadata": {},
   "outputs": [
    {
     "data": {
      "text/plain": [
       "True"
      ]
     },
     "execution_count": 30,
     "metadata": {},
     "output_type": "execute_result"
    }
   ],
   "source": [
    "data.reshape(4, 3).is_contiguous()"
   ]
  }
 ],
 "metadata": {
  "kernelspec": {
   "display_name": "AI",
   "language": "python",
   "name": "python3"
  },
  "language_info": {
   "codemirror_mode": {
    "name": "ipython",
    "version": 3
   },
   "file_extension": ".py",
   "mimetype": "text/x-python",
   "name": "python",
   "nbconvert_exporter": "python",
   "pygments_lexer": "ipython3",
   "version": "3.11.1"
  }
 },
 "nbformat": 4,
 "nbformat_minor": 5
}
