{
 "cells": [
  {
   "cell_type": "code",
   "execution_count": 1,
   "id": "initial_id",
   "metadata": {
    "ExecuteTime": {
     "end_time": "2025-03-25T02:20:26.577782Z",
     "start_time": "2025-03-25T02:20:25.343884Z"
    },
    "collapsed": true
   },
   "outputs": [],
   "source": [
    "import torch"
   ]
  },
  {
   "cell_type": "code",
   "execution_count": 3,
   "id": "dcc06f4a91bc86a4",
   "metadata": {
    "ExecuteTime": {
     "end_time": "2025-03-24T12:46:41.534218Z",
     "start_time": "2025-03-24T12:46:41.530589Z"
    }
   },
   "outputs": [],
   "source": [
    "# add、sub、mul、div、neg\n",
    "# add_、sub_、mul_、div_、neg_（其中带下划线的版本会修改原数据）"
   ]
  },
  {
   "cell_type": "code",
   "execution_count": 2,
   "id": "6b55610c21845a61",
   "metadata": {
    "ExecuteTime": {
     "end_time": "2025-03-25T02:20:29.488472Z",
     "start_time": "2025-03-25T02:20:29.484472Z"
    }
   },
   "outputs": [],
   "source": [
    "t1 = torch.tensor(data=[1, 2, 3, 4])"
   ]
  },
  {
   "cell_type": "code",
   "execution_count": 3,
   "id": "d6a1483313ef49eb",
   "metadata": {
    "ExecuteTime": {
     "end_time": "2025-03-25T02:20:30.708242Z",
     "start_time": "2025-03-25T02:20:30.701629Z"
    }
   },
   "outputs": [
    {
     "data": {
      "text/plain": [
       "tensor([4, 5, 6, 7])"
      ]
     },
     "execution_count": 3,
     "metadata": {},
     "output_type": "execute_result"
    }
   ],
   "source": [
    "t2 = t1 + 3\n",
    "t2"
   ]
  },
  {
   "cell_type": "code",
   "execution_count": 4,
   "id": "fabb68cc26c8897d",
   "metadata": {
    "ExecuteTime": {
     "end_time": "2025-03-25T02:20:31.642184Z",
     "start_time": "2025-03-25T02:20:31.637077Z"
    }
   },
   "outputs": [
    {
     "data": {
      "text/plain": [
       "tensor([ 5,  7,  9, 11])"
      ]
     },
     "execution_count": 4,
     "metadata": {},
     "output_type": "execute_result"
    }
   ],
   "source": [
    "t3 = t1 + t2\n",
    "t3"
   ]
  },
  {
   "cell_type": "code",
   "execution_count": 5,
   "id": "65e0f0d8f1c76d57",
   "metadata": {
    "ExecuteTime": {
     "end_time": "2025-03-25T02:20:32.889574Z",
     "start_time": "2025-03-25T02:20:32.885335Z"
    }
   },
   "outputs": [
    {
     "data": {
      "text/plain": [
       "tensor([-1, -2, -3, -4])"
      ]
     },
     "execution_count": 5,
     "metadata": {},
     "output_type": "execute_result"
    }
   ],
   "source": [
    "-t1"
   ]
  },
  {
   "cell_type": "code",
   "execution_count": 7,
   "id": "c3846b032007e235",
   "metadata": {
    "ExecuteTime": {
     "end_time": "2025-03-25T02:20:55.257233Z",
     "start_time": "2025-03-25T02:20:55.251716Z"
    }
   },
   "outputs": [
    {
     "data": {
      "text/plain": [
       "tensor([3, 4, 5, 6])"
      ]
     },
     "execution_count": 7,
     "metadata": {},
     "output_type": "execute_result"
    }
   ],
   "source": [
    "torch.add(input=t1, other=2)"
   ]
  },
  {
   "cell_type": "code",
   "execution_count": 8,
   "id": "5e97f14876406f64",
   "metadata": {
    "ExecuteTime": {
     "end_time": "2025-03-25T02:20:58.153221Z",
     "start_time": "2025-03-25T02:20:58.148221Z"
    }
   },
   "outputs": [
    {
     "data": {
      "text/plain": [
       "tensor([-1, -2, -3, -4])"
      ]
     },
     "execution_count": 8,
     "metadata": {},
     "output_type": "execute_result"
    }
   ],
   "source": [
    "t1.neg_()"
   ]
  },
  {
   "cell_type": "code",
   "execution_count": 9,
   "id": "8e5973d5328bba8a",
   "metadata": {
    "ExecuteTime": {
     "end_time": "2025-03-25T02:20:59.815098Z",
     "start_time": "2025-03-25T02:20:59.810466Z"
    }
   },
   "outputs": [
    {
     "data": {
      "text/plain": [
       "tensor([-1, -2, -3, -4])"
      ]
     },
     "execution_count": 9,
     "metadata": {},
     "output_type": "execute_result"
    }
   ],
   "source": [
    "t1"
   ]
  },
  {
   "cell_type": "code",
   "execution_count": 10,
   "id": "508e16601e260bb3",
   "metadata": {
    "ExecuteTime": {
     "end_time": "2025-03-25T02:21:01.727895Z",
     "start_time": "2025-03-25T02:21:01.723859Z"
    }
   },
   "outputs": [],
   "source": [
    "t1 = torch.tensor([\n",
    "    [1, 2],\n",
    "    [3, 4]\n",
    "])\n",
    "t2 = torch.tensor([\n",
    "    [5, 6],\n",
    "    [7, 8]\n",
    "])"
   ]
  },
  {
   "cell_type": "code",
   "execution_count": 11,
   "id": "5c89238ba9233444",
   "metadata": {
    "ExecuteTime": {
     "end_time": "2025-03-25T02:21:05.896325Z",
     "start_time": "2025-03-25T02:21:05.890984Z"
    }
   },
   "outputs": [
    {
     "data": {
      "text/plain": [
       "tensor([[ 5, 12],\n",
       "        [21, 32]])"
      ]
     },
     "execution_count": 11,
     "metadata": {},
     "output_type": "execute_result"
    }
   ],
   "source": [
    "t1 * t2  # Hadamard乘积，也称作元素级乘法（Element-wise product），是矩阵或数组对应元素相乘得到的结果"
   ]
  },
  {
   "cell_type": "code",
   "execution_count": 12,
   "id": "11663456e93a637d",
   "metadata": {
    "ExecuteTime": {
     "end_time": "2025-03-25T02:21:07.448631Z",
     "start_time": "2025-03-25T02:21:07.444007Z"
    }
   },
   "outputs": [
    {
     "data": {
      "text/plain": [
       "tensor([[ 5, 12],\n",
       "        [21, 32]])"
      ]
     },
     "execution_count": 12,
     "metadata": {},
     "output_type": "execute_result"
    }
   ],
   "source": [
    "torch.mul(t1, t2)"
   ]
  },
  {
   "cell_type": "code",
   "execution_count": 13,
   "id": "3b2d8916a2ae0ca8",
   "metadata": {
    "ExecuteTime": {
     "end_time": "2025-03-25T02:21:08.286893Z",
     "start_time": "2025-03-25T02:21:08.281121Z"
    }
   },
   "outputs": [
    {
     "data": {
      "text/plain": [
       "tensor([[ 5, 12],\n",
       "        [21, 32]])"
      ]
     },
     "execution_count": 13,
     "metadata": {},
     "output_type": "execute_result"
    }
   ],
   "source": [
    "torch.multiply(t1, t2)"
   ]
  },
  {
   "cell_type": "code",
   "execution_count": 14,
   "id": "e93b04ce5d888e47",
   "metadata": {
    "ExecuteTime": {
     "end_time": "2025-03-25T02:21:09.728399Z",
     "start_time": "2025-03-25T02:21:09.720308Z"
    }
   },
   "outputs": [
    {
     "data": {
      "text/plain": [
       "tensor([[19, 22],\n",
       "        [43, 50]])"
      ]
     },
     "execution_count": 14,
     "metadata": {},
     "output_type": "execute_result"
    }
   ],
   "source": [
    "torch.matmul(t1, t2)"
   ]
  },
  {
   "cell_type": "code",
   "execution_count": 15,
   "id": "7b15abdf4dbcc7cd",
   "metadata": {
    "ExecuteTime": {
     "end_time": "2025-03-25T02:21:16.095755Z",
     "start_time": "2025-03-25T02:21:16.091008Z"
    }
   },
   "outputs": [
    {
     "data": {
      "text/plain": [
       "tensor([[19, 22],\n",
       "        [43, 50]])"
      ]
     },
     "execution_count": 15,
     "metadata": {},
     "output_type": "execute_result"
    }
   ],
   "source": [
    "t1@t2"
   ]
  },
  {
   "cell_type": "code",
   "execution_count": 2,
   "id": "faa443855adbf0af",
   "metadata": {
    "ExecuteTime": {
     "end_time": "2025-03-25T02:21:22.182315Z",
     "start_time": "2025-03-25T02:21:22.178874Z"
    }
   },
   "outputs": [],
   "source": [
    "t1 = torch.tensor([1, 2])\n",
    "t2 = torch.tensor([\n",
    "    [5, 6],\n",
    "    [7, 8]\n",
    "])"
   ]
  },
  {
   "cell_type": "code",
   "execution_count": 17,
   "id": "84d7dd9be2faeaf3",
   "metadata": {
    "ExecuteTime": {
     "end_time": "2025-03-25T02:21:26.793424Z",
     "start_time": "2025-03-25T02:21:26.788919Z"
    }
   },
   "outputs": [
    {
     "data": {
      "text/plain": [
       "tensor([[ 5, 12],\n",
       "        [ 7, 16]])"
      ]
     },
     "execution_count": 17,
     "metadata": {},
     "output_type": "execute_result"
    }
   ],
   "source": [
    "t1 * t2"
   ]
  },
  {
   "cell_type": "code",
   "execution_count": 18,
   "id": "dccc0984f880270e",
   "metadata": {
    "ExecuteTime": {
     "end_time": "2025-03-25T02:21:27.887229Z",
     "start_time": "2025-03-25T02:21:27.882985Z"
    }
   },
   "outputs": [
    {
     "data": {
      "text/plain": [
       "tensor([[ 5, 12],\n",
       "        [ 7, 16]])"
      ]
     },
     "execution_count": 18,
     "metadata": {},
     "output_type": "execute_result"
    }
   ],
   "source": [
    "torch.multiply(t1, t2)"
   ]
  },
  {
   "cell_type": "code",
   "execution_count": 19,
   "id": "58f2c8c251ba6669",
   "metadata": {
    "ExecuteTime": {
     "end_time": "2025-03-25T02:21:29.294188Z",
     "start_time": "2025-03-25T02:21:29.278501Z"
    }
   },
   "outputs": [
    {
     "data": {
      "text/plain": [
       "tensor([19, 22])"
      ]
     },
     "execution_count": 19,
     "metadata": {},
     "output_type": "execute_result"
    }
   ],
   "source": [
    "torch.matmul(t1, t2)"
   ]
  },
  {
   "cell_type": "code",
   "execution_count": 20,
   "id": "6ef58ef5f5ed5f75",
   "metadata": {
    "ExecuteTime": {
     "end_time": "2025-03-25T02:21:33.785715Z",
     "start_time": "2025-03-25T02:21:33.781250Z"
    }
   },
   "outputs": [
    {
     "data": {
      "text/plain": [
       "tensor([19, 22])"
      ]
     },
     "execution_count": 20,
     "metadata": {},
     "output_type": "execute_result"
    }
   ],
   "source": [
    "t1@t2"
   ]
  },
  {
   "cell_type": "code",
   "execution_count": 21,
   "id": "f891d5606c7d3f55",
   "metadata": {
    "ExecuteTime": {
     "end_time": "2025-03-25T02:21:35.073756Z",
     "start_time": "2025-03-25T02:21:35.070358Z"
    }
   },
   "outputs": [],
   "source": [
    "t1 = torch.tensor([1, 2])\n",
    "t2 = torch.tensor([3, 4])"
   ]
  },
  {
   "cell_type": "code",
   "execution_count": 22,
   "id": "b7ba5ba4ca386491",
   "metadata": {
    "ExecuteTime": {
     "end_time": "2025-03-25T02:21:36.013893Z",
     "start_time": "2025-03-25T02:21:36.007378Z"
    }
   },
   "outputs": [
    {
     "data": {
      "text/plain": [
       "tensor(11)"
      ]
     },
     "execution_count": 22,
     "metadata": {},
     "output_type": "execute_result"
    }
   ],
   "source": [
    "torch.dot(t1, t2)"
   ]
  },
  {
   "cell_type": "code",
   "execution_count": 23,
   "id": "85d1dc69fb55bef9",
   "metadata": {
    "ExecuteTime": {
     "end_time": "2025-03-25T02:21:38.021197Z",
     "start_time": "2025-03-25T02:21:38.017025Z"
    }
   },
   "outputs": [
    {
     "data": {
      "text/plain": [
       "tensor(11)"
      ]
     },
     "execution_count": 23,
     "metadata": {},
     "output_type": "execute_result"
    }
   ],
   "source": [
    "t1@t2"
   ]
  }
 ],
 "metadata": {
  "kernelspec": {
   "display_name": "AI",
   "language": "python",
   "name": "python3"
  },
  "language_info": {
   "codemirror_mode": {
    "name": "ipython",
    "version": 3
   },
   "file_extension": ".py",
   "mimetype": "text/x-python",
   "name": "python",
   "nbconvert_exporter": "python",
   "pygments_lexer": "ipython3",
   "version": "3.11.1"
  }
 },
 "nbformat": 4,
 "nbformat_minor": 5
}
