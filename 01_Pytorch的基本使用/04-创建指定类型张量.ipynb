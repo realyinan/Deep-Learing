{
 "cells": [
  {
   "cell_type": "code",
   "execution_count": null,
   "id": "initial_id",
   "metadata": {
    "collapsed": true
   },
   "outputs": [],
   "source": [
    "import torch"
   ]
  },
  {
   "cell_type": "code",
   "execution_count": null,
   "id": "bdec5c0b0f31fb69",
   "metadata": {},
   "outputs": [],
   "source": [
    "t1 = torch.tensor(data=[\n",
    "    [1, 2, 3],\n",
    "    [4, 5, 6]\n",
    "], dtype=torch.float32)\n",
    "t1"
   ]
  },
  {
   "cell_type": "code",
   "execution_count": null,
   "id": "d41e0ca3c651b628",
   "metadata": {},
   "outputs": [],
   "source": [
    "t2 = t1.type(torch.float64)\n",
    "t2.dtype"
   ]
  },
  {
   "cell_type": "code",
   "execution_count": null,
   "id": "f5fc6aa7cc30da27",
   "metadata": {},
   "outputs": [],
   "source": [
    "t3 = t1.type(torch.FloatTensor)\n",
    "t3.dtype"
   ]
  },
  {
   "cell_type": "code",
   "execution_count": null,
   "id": "ff1dadd37bd66ca5",
   "metadata": {},
   "outputs": [],
   "source": [
    "t4 = t1.half()  # 数据类型从原类型转换为半精度浮点类型（float16）\n",
    "t4.dtype"
   ]
  },
  {
   "cell_type": "code",
   "execution_count": null,
   "id": "5d2160e0649f51ee",
   "metadata": {},
   "outputs": [],
   "source": [
    "t5 = t1.int()\n",
    "t5.dtype"
   ]
  }
 ],
 "metadata": {
  "kernelspec": {
   "display_name": "AI",
   "language": "python",
   "name": "python3"
  },
  "language_info": {
   "codemirror_mode": {
    "name": "ipython",
    "version": 2
   },
   "file_extension": ".py",
   "mimetype": "text/x-python",
   "name": "python",
   "nbconvert_exporter": "python",
   "pygments_lexer": "ipython2",
   "version": "3.11.1"
  }
 },
 "nbformat": 4,
 "nbformat_minor": 5
}
