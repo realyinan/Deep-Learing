{
 "cells": [
  {
   "cell_type": "code",
   "execution_count": 1,
   "id": "initial_id",
   "metadata": {
    "ExecuteTime": {
     "end_time": "2025-03-25T02:09:02.061103Z",
     "start_time": "2025-03-25T02:08:58.250459Z"
    },
    "collapsed": true
   },
   "outputs": [],
   "source": [
    "import torch"
   ]
  },
  {
   "cell_type": "code",
   "execution_count": 2,
   "id": "2e0be7db0e8b50df",
   "metadata": {
    "ExecuteTime": {
     "end_time": "2025-03-25T02:09:14.730753Z",
     "start_time": "2025-03-25T02:09:14.667169Z"
    }
   },
   "outputs": [
    {
     "data": {
      "text/plain": [
       "tensor([[7, 6, 6, 2, 6],\n",
       "        [8, 8, 5, 6, 2],\n",
       "        [9, 6, 7, 4, 8],\n",
       "        [6, 7, 2, 4, 7]])"
      ]
     },
     "execution_count": 2,
     "metadata": {},
     "output_type": "execute_result"
    }
   ],
   "source": [
    "torch.manual_seed(22)\n",
    "data = torch.randint(low=2, high=10, size=(4, 5))\n",
    "data"
   ]
  },
  {
   "cell_type": "code",
   "execution_count": 16,
   "id": "699554174794de53",
   "metadata": {
    "ExecuteTime": {
     "end_time": "2025-03-24T13:57:36.132851Z",
     "start_time": "2025-03-24T13:57:36.127249Z"
    }
   },
   "outputs": [
    {
     "data": {
      "text/plain": [
       "tensor([7, 6, 6, 2, 6])"
      ]
     },
     "execution_count": 16,
     "metadata": {},
     "output_type": "execute_result"
    }
   ],
   "source": [
    "data[0]"
   ]
  },
  {
   "cell_type": "code",
   "execution_count": 17,
   "id": "447c3cea635606bd",
   "metadata": {
    "ExecuteTime": {
     "end_time": "2025-03-24T13:57:38.773154Z",
     "start_time": "2025-03-24T13:57:38.767436Z"
    }
   },
   "outputs": [
    {
     "data": {
      "text/plain": [
       "tensor([7, 8, 9, 6])"
      ]
     },
     "execution_count": 17,
     "metadata": {},
     "output_type": "execute_result"
    }
   ],
   "source": [
    "data[:, 0]"
   ]
  },
  {
   "cell_type": "code",
   "execution_count": 31,
   "id": "be3b1af9f532870",
   "metadata": {
    "ExecuteTime": {
     "end_time": "2025-03-24T14:41:10.376548Z",
     "start_time": "2025-03-24T14:41:10.371932Z"
    }
   },
   "outputs": [
    {
     "data": {
      "text/plain": [
       "tensor(5)"
      ]
     },
     "execution_count": 31,
     "metadata": {},
     "output_type": "execute_result"
    }
   ],
   "source": [
    "data[1, 2]"
   ]
  },
  {
   "cell_type": "code",
   "execution_count": 23,
   "id": "7f38f0ad86ab3b1a",
   "metadata": {
    "ExecuteTime": {
     "end_time": "2025-03-24T14:02:09.461092Z",
     "start_time": "2025-03-24T14:02:09.457227Z"
    }
   },
   "outputs": [
    {
     "data": {
      "text/plain": [
       "tensor(7)"
      ]
     },
     "execution_count": 23,
     "metadata": {},
     "output_type": "execute_result"
    }
   ],
   "source": [
    "data[3, 4]"
   ]
  },
  {
   "cell_type": "code",
   "execution_count": 24,
   "id": "1eff104f06abed5f",
   "metadata": {
    "ExecuteTime": {
     "end_time": "2025-03-24T14:02:14.198379Z",
     "start_time": "2025-03-24T14:02:14.193373Z"
    }
   },
   "outputs": [
    {
     "data": {
      "text/plain": [
       "tensor([5, 7])"
      ]
     },
     "execution_count": 24,
     "metadata": {},
     "output_type": "execute_result"
    }
   ],
   "source": [
    "data[[1, 3], [2, 4]] # 第一行第二列 和 第三行第四列的元素"
   ]
  },
  {
   "cell_type": "code",
   "execution_count": 32,
   "id": "927f3e62942ae32d",
   "metadata": {
    "ExecuteTime": {
     "end_time": "2025-03-24T14:41:21.573008Z",
     "start_time": "2025-03-24T14:41:21.568882Z"
    }
   },
   "outputs": [
    {
     "data": {
      "text/plain": [
       "tensor([5, 7])"
      ]
     },
     "execution_count": 32,
     "metadata": {},
     "output_type": "execute_result"
    }
   ],
   "source": [
    "data[[[1], [3]], [2, 4]]"
   ]
  },
  {
   "cell_type": "code",
   "execution_count": 38,
   "id": "275da6187e36192f",
   "metadata": {
    "ExecuteTime": {
     "end_time": "2025-03-24T14:47:35.769571Z",
     "start_time": "2025-03-24T14:47:35.765948Z"
    }
   },
   "outputs": [
    {
     "data": {
      "text/plain": [
       "tensor([False,  True, False,  True])"
      ]
     },
     "execution_count": 38,
     "metadata": {},
     "output_type": "execute_result"
    }
   ],
   "source": [
    "data[:, 1] > 6"
   ]
  },
  {
   "cell_type": "code",
   "execution_count": 37,
   "id": "e53f8f0c60c0f2c7",
   "metadata": {
    "ExecuteTime": {
     "end_time": "2025-03-24T14:45:07.518281Z",
     "start_time": "2025-03-24T14:45:07.513655Z"
    }
   },
   "outputs": [
    {
     "data": {
      "text/plain": [
       "tensor([[8, 8, 5, 6, 2],\n",
       "        [6, 7, 2, 4, 7]])"
      ]
     },
     "execution_count": 37,
     "metadata": {},
     "output_type": "execute_result"
    }
   ],
   "source": [
    "data[data[:, 1] > 6]"
   ]
  },
  {
   "cell_type": "code",
   "execution_count": 42,
   "id": "84183eb376dfb2d2",
   "metadata": {
    "ExecuteTime": {
     "end_time": "2025-03-24T14:52:31.937761Z",
     "start_time": "2025-03-24T14:52:31.933173Z"
    }
   },
   "outputs": [
    {
     "data": {
      "text/plain": [
       "tensor([ True, False,  True, False,  True])"
      ]
     },
     "execution_count": 42,
     "metadata": {},
     "output_type": "execute_result"
    }
   ],
   "source": [
    "data[2] > 6"
   ]
  },
  {
   "cell_type": "code",
   "execution_count": 41,
   "id": "e223cd653a60f7d2",
   "metadata": {
    "ExecuteTime": {
     "end_time": "2025-03-24T14:51:59.857888Z",
     "start_time": "2025-03-24T14:51:59.852726Z"
    }
   },
   "outputs": [
    {
     "data": {
      "text/plain": [
       "tensor([[7, 6, 6],\n",
       "        [8, 5, 2],\n",
       "        [9, 7, 8],\n",
       "        [6, 2, 7]])"
      ]
     },
     "execution_count": 41,
     "metadata": {},
     "output_type": "execute_result"
    }
   ],
   "source": [
    "data[:, data[2] > 6]"
   ]
  },
  {
   "cell_type": "code",
   "execution_count": 43,
   "id": "5a363c56313c528a",
   "metadata": {
    "ExecuteTime": {
     "end_time": "2025-03-24T14:56:38.262622Z",
     "start_time": "2025-03-24T14:56:38.257695Z"
    }
   },
   "outputs": [
    {
     "data": {
      "text/plain": [
       "tensor([[6, 2],\n",
       "        [6, 4]])"
      ]
     },
     "execution_count": 43,
     "metadata": {},
     "output_type": "execute_result"
    }
   ],
   "source": [
    "data[::2, 1::2]"
   ]
  },
  {
   "cell_type": "code",
   "execution_count": 4,
   "id": "9b66c11704e1e8df",
   "metadata": {
    "ExecuteTime": {
     "end_time": "2025-03-25T02:09:29.873794Z",
     "start_time": "2025-03-25T02:09:29.869756Z"
    }
   },
   "outputs": [
    {
     "data": {
      "text/plain": [
       "tensor([[[3, 2, 9, 7, 8],\n",
       "         [4, 1, 7, 9, 6],\n",
       "         [8, 1, 6, 1, 0],\n",
       "         [3, 5, 3, 8, 5]],\n",
       "\n",
       "        [[7, 7, 5, 1, 8],\n",
       "         [8, 9, 5, 5, 2],\n",
       "         [9, 0, 5, 6, 7],\n",
       "         [9, 1, 3, 7, 5]],\n",
       "\n",
       "        [[1, 7, 4, 9, 0],\n",
       "         [0, 5, 1, 7, 3],\n",
       "         [9, 7, 6, 5, 7],\n",
       "         [9, 0, 7, 0, 1]]])"
      ]
     },
     "execution_count": 4,
     "metadata": {},
     "output_type": "execute_result"
    }
   ],
   "source": [
    "data = torch.randint(0, 10, size=(3, 4, 5))  # 三维张量\n",
    "data"
   ]
  },
  {
   "cell_type": "code",
   "execution_count": 5,
   "id": "8033db8142332ed3",
   "metadata": {
    "ExecuteTime": {
     "end_time": "2025-03-25T02:09:33.397769Z",
     "start_time": "2025-03-25T02:09:33.390864Z"
    }
   },
   "outputs": [
    {
     "data": {
      "text/plain": [
       "tensor([[3, 2, 9, 7, 8],\n",
       "        [4, 1, 7, 9, 6],\n",
       "        [8, 1, 6, 1, 0],\n",
       "        [3, 5, 3, 8, 5]])"
      ]
     },
     "execution_count": 5,
     "metadata": {},
     "output_type": "execute_result"
    }
   ],
   "source": [
    "data[0, :, :]"
   ]
  },
  {
   "cell_type": "code",
   "execution_count": 6,
   "id": "d973dd709d0fe836",
   "metadata": {
    "ExecuteTime": {
     "end_time": "2025-03-25T02:09:41.296140Z",
     "start_time": "2025-03-25T02:09:41.285500Z"
    }
   },
   "outputs": [
    {
     "data": {
      "text/plain": [
       "tensor([[3, 2, 9, 7, 8],\n",
       "        [7, 7, 5, 1, 8],\n",
       "        [1, 7, 4, 9, 0]])"
      ]
     },
     "execution_count": 6,
     "metadata": {},
     "output_type": "execute_result"
    }
   ],
   "source": [
    "data[:, 0, :]"
   ]
  },
  {
   "cell_type": "code",
   "execution_count": 7,
   "id": "58795ab6056b840e",
   "metadata": {
    "ExecuteTime": {
     "end_time": "2025-03-25T02:10:01.646292Z",
     "start_time": "2025-03-25T02:10:01.631724Z"
    }
   },
   "outputs": [
    {
     "data": {
      "text/plain": [
       "tensor([[3, 4, 8, 3],\n",
       "        [7, 8, 9, 9],\n",
       "        [1, 0, 9, 9]])"
      ]
     },
     "execution_count": 7,
     "metadata": {},
     "output_type": "execute_result"
    }
   ],
   "source": [
    "data[:, :, 0]"
   ]
  }
 ],
 "metadata": {
  "kernelspec": {
   "display_name": "AI",
   "language": "python",
   "name": "python3"
  },
  "language_info": {
   "codemirror_mode": {
    "name": "ipython",
    "version": 2
   },
   "file_extension": ".py",
   "mimetype": "text/x-python",
   "name": "python",
   "nbconvert_exporter": "python",
   "pygments_lexer": "ipython2",
   "version": "3.11.1"
  }
 },
 "nbformat": 4,
 "nbformat_minor": 5
}
