{
 "cells": [
  {
   "cell_type": "code",
   "execution_count": 2,
   "metadata": {},
   "outputs": [],
   "source": [
    "import torch"
   ]
  },
  {
   "cell_type": "code",
   "execution_count": null,
   "metadata": {},
   "outputs": [
    {
     "name": "stdout",
     "output_type": "stream",
     "text": [
      "tensor(200., grad_fn=<MulBackward0>)\n",
      "tensor(40.)\n"
     ]
    }
   ],
   "source": [
    "# requires_grad 是 PyTorch 中 Tensor 的一个重要属性，用于控制 是否对该张量进行自动微分, PyTorch 就会开始追踪该张量上的所有操作，并在调用 .backward() 时自动计算梯度（gradient），保存在该张量的 .grad 属性中。\n",
    "# 每次执行 .backward() 时，PyTorch 会把新算出来的梯度 加到 原来 grad 里的值上，而不是覆盖它！\n",
    "w = torch.tensor(data=10, requires_grad=True, dtype=torch.float32)  # 数据类型要为浮点型, 才能计算梯度\n",
    "\n",
    "# 定义损失函数\n",
    "loss = 2 * w ** 2\n",
    "print(loss)\n",
    "\n",
    "# 反向传播, 计算梯度\n",
    "loss.backward()\n",
    "print(w.grad)"
   ]
  },
  {
   "cell_type": "code",
   "execution_count": 3,
   "metadata": {},
   "outputs": [
    {
     "name": "stdout",
     "output_type": "stream",
     "text": [
      "tensor([40., 80.])\n"
     ]
    }
   ],
   "source": [
    "w = torch.tensor(data=[10, 20], requires_grad=True, dtype=torch.float32)\n",
    "loss = 2 * w ** 2\n",
    "v = torch.tensor(data=[1.0, 1.0])\n",
    "loss.backward(v)\n",
    "print(w.grad)\n"
   ]
  }
 ],
 "metadata": {
  "kernelspec": {
   "display_name": "AI",
   "language": "python",
   "name": "python3"
  },
  "language_info": {
   "codemirror_mode": {
    "name": "ipython",
    "version": 3
   },
   "file_extension": ".py",
   "mimetype": "text/x-python",
   "name": "python",
   "nbconvert_exporter": "python",
   "pygments_lexer": "ipython3",
   "version": "3.11.1"
  }
 },
 "nbformat": 4,
 "nbformat_minor": 2
}
