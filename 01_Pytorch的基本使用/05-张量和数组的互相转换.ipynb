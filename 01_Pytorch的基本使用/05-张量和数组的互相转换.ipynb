{
 "cells": [
  {
   "cell_type": "code",
   "execution_count": null,
   "id": "initial_id",
   "metadata": {
    "collapsed": true
   },
   "outputs": [],
   "source": [
    "import torch\n",
    "import numpy as np"
   ]
  },
  {
   "cell_type": "markdown",
   "id": "fd9133a6f73dc9f0",
   "metadata": {},
   "source": [
    "## 张量转换为numpy数组"
   ]
  },
  {
   "cell_type": "code",
   "execution_count": null,
   "id": "f1a3b4fdf1ec917e",
   "metadata": {},
   "outputs": [],
   "source": [
    "t1 = torch.tensor([\n",
    "    [1, 2, 3],\n",
    "    [4, 5, 6]\n",
    "])\n",
    "t1"
   ]
  },
  {
   "cell_type": "code",
   "execution_count": null,
   "id": "624e0dc1044fe3e4",
   "metadata": {},
   "outputs": [],
   "source": [
    "t1.dtype"
   ]
  },
  {
   "cell_type": "code",
   "execution_count": null,
   "id": "7eea3888fa423c8f",
   "metadata": {},
   "outputs": [],
   "source": [
    "n1 = t1.numpy()  # 转换之后共享内存, copy()函数不共享内存\n",
    "n1"
   ]
  },
  {
   "cell_type": "code",
   "execution_count": null,
   "id": "8b14107e32af04bd",
   "metadata": {},
   "outputs": [],
   "source": [
    "n1.dtype"
   ]
  },
  {
   "cell_type": "code",
   "execution_count": null,
   "id": "5bed5b5eefdfbb9",
   "metadata": {},
   "outputs": [],
   "source": [
    "t1[0][0] = 100\n",
    "t1"
   ]
  },
  {
   "cell_type": "code",
   "execution_count": null,
   "id": "45f94c912779b56f",
   "metadata": {},
   "outputs": [],
   "source": [
    "n1"
   ]
  },
  {
   "cell_type": "markdown",
   "id": "1e8dbc5f79bf6528",
   "metadata": {},
   "source": [
    "## numpy数组转化为张量"
   ]
  },
  {
   "cell_type": "code",
   "execution_count": null,
   "id": "4a0d5c37f68c872d",
   "metadata": {},
   "outputs": [],
   "source": [
    "n1 = np.array([\n",
    "    [\n",
    "        [1, 2, 3],\n",
    "        [4, 5, 6]\n",
    "    ],\n",
    "    [\n",
    "        [7, 8, 9],\n",
    "        [10, 11, 12]\n",
    "    ]\n",
    "])\n",
    "t1 = torch.from_numpy(n1)  # 共享内存\n",
    "t1"
   ]
  },
  {
   "cell_type": "code",
   "execution_count": null,
   "id": "cd71b4e3ac39a229",
   "metadata": {},
   "outputs": [],
   "source": [
    "n1[0][0][0] = 8"
   ]
  },
  {
   "cell_type": "code",
   "execution_count": null,
   "id": "c946a2ecff120a3b",
   "metadata": {},
   "outputs": [],
   "source": [
    "n1"
   ]
  },
  {
   "cell_type": "code",
   "execution_count": null,
   "id": "1a3fe7e52d5cd385",
   "metadata": {},
   "outputs": [],
   "source": [
    "t1"
   ]
  },
  {
   "cell_type": "code",
   "execution_count": null,
   "id": "958ff685f7d72538",
   "metadata": {},
   "outputs": [],
   "source": [
    "t2 = torch.tensor(n1)  # 不共享内存\n",
    "t2"
   ]
  },
  {
   "cell_type": "code",
   "execution_count": null,
   "id": "3bbe0cca9b723679",
   "metadata": {},
   "outputs": [],
   "source": [
    "t2[0][0][2] = 100\n",
    "t2"
   ]
  },
  {
   "cell_type": "code",
   "execution_count": null,
   "id": "7cc44a7d660bba4a",
   "metadata": {},
   "outputs": [],
   "source": [
    "n1"
   ]
  },
  {
   "cell_type": "markdown",
   "id": "f470ab90ff63a388",
   "metadata": {},
   "source": [
    "## 标量张量和数字转换"
   ]
  },
  {
   "cell_type": "code",
   "execution_count": null,
   "id": "e48fca98c88fbc51",
   "metadata": {},
   "outputs": [],
   "source": [
    "t1 = torch.tensor(34)\n",
    "t1"
   ]
  },
  {
   "cell_type": "code",
   "execution_count": null,
   "id": "d56fde1288f8e441",
   "metadata": {},
   "outputs": [],
   "source": [
    "t1.item()"
   ]
  },
  {
   "cell_type": "code",
   "execution_count": null,
   "id": "80be159ee4c0000e",
   "metadata": {},
   "outputs": [],
   "source": [
    "torch.tensor(23).item()"
   ]
  }
 ],
 "metadata": {
  "kernelspec": {
   "display_name": "AI",
   "language": "python",
   "name": "python3"
  },
  "language_info": {
   "codemirror_mode": {
    "name": "ipython",
    "version": 2
   },
   "file_extension": ".py",
   "mimetype": "text/x-python",
   "name": "python",
   "nbconvert_exporter": "python",
   "pygments_lexer": "ipython2",
   "version": "3.11.1"
  }
 },
 "nbformat": 4,
 "nbformat_minor": 5
}
