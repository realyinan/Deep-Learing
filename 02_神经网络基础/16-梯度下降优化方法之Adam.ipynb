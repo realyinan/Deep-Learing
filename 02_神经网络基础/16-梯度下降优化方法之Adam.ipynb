{
 "cells": [
  {
   "cell_type": "markdown",
   "metadata": {},
   "source": [
    "## ⚙️ Adam 优化算法简介\n",
    "\n",
    "> **Adam = Momentum + RMSprop 的结合体**\n",
    "\n",
    "它既考虑了：\n",
    "- 一阶动量（梯度的均值）\n",
    "- 二阶动量（梯度的平方均值）\n",
    "\n",
    "并通过自适应学习率，使参数更新更加高效、鲁棒。\n",
    "\n",
    "---\n",
    "\n",
    "### 🔍 公式解析\n",
    "\n",
    "Adam 维护两个滑动平均：\n",
    "\n",
    "- **一阶矩估计（动量）**：\n",
    "  $$\n",
    "  m_t = \\beta_1 m_{t-1} + (1 - \\beta_1) g_t\n",
    "  $$\n",
    "- **二阶矩估计（RMS）**：\n",
    "  $$\n",
    "  v_t = \\beta_2 v_{t-1} + (1 - \\beta_2) g_t^2\n",
    "  $$\n",
    "\n",
    "再进行偏差修正（避免前几步趋近于 0）：\n",
    "\n",
    "$$\n",
    "\\hat{m}_t = \\frac{m_t}{1 - \\beta_1^t},\\quad \\hat{v}_t = \\frac{v_t}{1 - \\beta_2^t}\n",
    "$$\n",
    "\n",
    "最后更新参数：\n",
    "\n",
    "$$\n",
    "\\theta_{t+1} = \\theta_t - \\frac{\\eta}{\\sqrt{\\hat{v}_t} + \\epsilon} \\cdot \\hat{m}_t\n",
    "$$\n",
    "\n",
    "---\n",
    "\n",
    "### 📈 优缺点总结\n",
    "\n",
    "| ✅ 优点 | ❌ 缺点 |\n",
    "|--------|--------|\n",
    "| 收敛快，适用于大多数问题 | 有时泛化性能不如 SGD |\n",
    "| 几乎不需要调参 | 容易“过拟合”局部最优 |\n",
    "| 自动调节每个参数的学习率 | 参数更新机制略复杂 |\n",
    "| 特别适合稀疏梯度场景（NLP） | |\n",
    "\n",
    "---"
   ]
  },
  {
   "cell_type": "code",
   "execution_count": 4,
   "metadata": {},
   "outputs": [
    {
     "name": "stdout",
     "output_type": "stream",
     "text": [
      "tensor([1.]) tensor([0.9900], requires_grad=True) tensor([0.5000], grad_fn=<DivBackward0>)\n",
      "tensor([0.9900]) tensor([0.9800], requires_grad=True) tensor([0.4901], grad_fn=<DivBackward0>)\n",
      "tensor([0.9800]) tensor([0.9700], requires_grad=True) tensor([0.4802], grad_fn=<DivBackward0>)\n",
      "tensor([0.9700]) tensor([0.9600], requires_grad=True) tensor([0.4705], grad_fn=<DivBackward0>)\n",
      "tensor([0.9600]) tensor([0.9500], requires_grad=True) tensor([0.4608], grad_fn=<DivBackward0>)\n",
      "tensor([0.9500]) tensor([0.9401], requires_grad=True) tensor([0.4513], grad_fn=<DivBackward0>)\n",
      "tensor([0.9401]) tensor([0.9301], requires_grad=True) tensor([0.4419], grad_fn=<DivBackward0>)\n",
      "tensor([0.9301]) tensor([0.9202], requires_grad=True) tensor([0.4326], grad_fn=<DivBackward0>)\n",
      "tensor([0.9202]) tensor([0.9102], requires_grad=True) tensor([0.4234], grad_fn=<DivBackward0>)\n",
      "tensor([0.9102]) tensor([0.9003], requires_grad=True) tensor([0.4143], grad_fn=<DivBackward0>)\n"
     ]
    }
   ],
   "source": [
    "import torch\n",
    "from torch import optim\n",
    "\n",
    "w = torch.tensor(data=[1.0], requires_grad=True, dtype=torch.float32)\n",
    "optimizer = optim.Adam(params=[w], lr=0.01, betas=(0.9, 0.99))\n",
    "\n",
    "for i in range(10):\n",
    "    loss = (w**2)/2.0\n",
    "    optimizer.zero_grad()\n",
    "    loss.backward()\n",
    "    optimizer.step()\n",
    "\n",
    "    print(w.grad, w, loss)"
   ]
  }
 ],
 "metadata": {
  "kernelspec": {
   "display_name": "AI",
   "language": "python",
   "name": "python3"
  },
  "language_info": {
   "codemirror_mode": {
    "name": "ipython",
    "version": 3
   },
   "file_extension": ".py",
   "mimetype": "text/x-python",
   "name": "python",
   "nbconvert_exporter": "python",
   "pygments_lexer": "ipython3",
   "version": "3.11.1"
  }
 },
 "nbformat": 4,
 "nbformat_minor": 2
}
