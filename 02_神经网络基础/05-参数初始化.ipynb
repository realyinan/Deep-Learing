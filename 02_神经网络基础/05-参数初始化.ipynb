{
 "cells": [
  {
   "cell_type": "code",
   "execution_count": 1,
   "metadata": {},
   "outputs": [],
   "source": [
    "import torch\n",
    "import torch.nn as nn"
   ]
  },
  {
   "cell_type": "code",
   "execution_count": null,
   "metadata": {},
   "outputs": [
    {
     "name": "stdout",
     "output_type": "stream",
     "text": [
      "Parameter containing:\n",
      "tensor([[0.9727, 0.1492, 0.4107, 0.4992, 0.8098],\n",
      "        [0.1534, 0.4749, 0.0061, 0.6802, 0.9307],\n",
      "        [0.3120, 0.9407, 0.0378, 0.7331, 0.9200],\n",
      "        [0.0402, 0.9639, 0.9302, 0.5560, 0.2149],\n",
      "        [0.5966, 0.1667, 0.3100, 0.8579, 0.2599],\n",
      "        [0.7714, 0.5693, 0.6886, 0.8572, 0.5082],\n",
      "        [0.7550, 0.5557, 0.0120, 0.6322, 0.1537],\n",
      "        [0.6742, 0.5447, 0.2144, 0.9890, 0.5172]], requires_grad=True)\n",
      "Parameter containing:\n",
      "tensor([0.8080, 0.7661, 0.6391, 0.0882, 0.4132, 0.1787, 0.9444, 0.8040],\n",
      "       requires_grad=True)\n"
     ]
    }
   ],
   "source": [
    "linear1 = nn.Linear(in_features=5, out_features=8)\n",
    "\n",
    "# 从0-1均匀分布产生参数\n",
    "nn.init.uniform_(linear1.weight)\n",
    "nn.init.uniform_(linear1.bias)\n",
    "print(linear1.weight)\n",
    "print(linear1.bias)\n",
    "\n",
    "# input 的形状是 [batch_size, in_features]\n",
    "# weight 是 [out_features, in_features]\n",
    "# input @ weight.T 的形状就变成 [batch_size, out_features]"
   ]
  },
  {
   "cell_type": "code",
   "execution_count": 5,
   "metadata": {},
   "outputs": [
    {
     "name": "stdout",
     "output_type": "stream",
     "text": [
      "Parameter containing:\n",
      "tensor([[-1.0592, -0.5504, -0.1258, -0.3683,  1.8651, -0.8862, -0.9418, -0.8276],\n",
      "        [ 0.8580, -1.7136,  0.3904, -0.2263, -0.9812, -0.6520, -0.6145,  0.0535],\n",
      "        [-0.5074, -0.0674,  0.9180, -0.7933,  1.2023,  1.2862, -1.9546,  0.6695]],\n",
      "       requires_grad=True)\n",
      "Parameter containing:\n",
      "tensor([ 0.0231,  0.5643, -0.8275], requires_grad=True)\n"
     ]
    }
   ],
   "source": [
    "linear2 = nn.Linear(in_features=8, out_features=3)\n",
    "\n",
    "# 正态分布随机初始化\n",
    "nn.init.normal_(linear2.weight)\n",
    "nn.init.normal_(linear2.bias)\n",
    "print(linear2.weight)\n",
    "print(linear2.bias)"
   ]
  },
  {
   "cell_type": "code",
   "execution_count": null,
   "metadata": {},
   "outputs": [],
   "source": [
    "# Sigmoid/Tanh：Xavier 初始化\n",
    "# ReLU/Leaky ReLU：kaiming 初始化\n",
    "# 网络的深度\n",
    "# 浅层网络：随机初始化即可\n",
    "# 深层网络：需要考虑方差平衡，如 Xavier 或 kaiming 初始化"
   ]
  }
 ],
 "metadata": {
  "kernelspec": {
   "display_name": "AI",
   "language": "python",
   "name": "python3"
  },
  "language_info": {
   "codemirror_mode": {
    "name": "ipython",
    "version": 3
   },
   "file_extension": ".py",
   "mimetype": "text/x-python",
   "name": "python",
   "nbconvert_exporter": "python",
   "pygments_lexer": "ipython3",
   "version": "3.11.1"
  }
 },
 "nbformat": 4,
 "nbformat_minor": 2
}
