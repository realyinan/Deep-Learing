{
 "cells": [
  {
   "cell_type": "markdown",
   "metadata": {},
   "source": [
    "Smooth L1 损失函数（也叫 **Huber Loss** 的一种变体）是 PyTorch 中常用于 **回归问题** 或 **目标检测（如 Faster R-CNN 中的边框回归）** 的一种损失函数。它结合了 **L1 loss（绝对值损失）** 和 **L2 loss（平方损失）** 的优点，能够在保持对异常值不太敏感的同时，也有较好的平滑性。\n",
    "\n",
    "---\n",
    "\n",
    "### 📌 定义公式：\n",
    "\n",
    "对于预测值 `x` 和真实值 `y`，设误差为 `diff = x - y`，则 Smooth L1 的计算如下：\n",
    "\n",
    "$$\n",
    "\\text{SmoothL1}(x, y) = \n",
    "\\begin{cases}\n",
    "0.5 \\cdot (x - y)^2 / \\beta, & \\text{if } |x - y| < \\beta \\\\\n",
    "|x - y| - 0.5 \\cdot \\beta, & \\text{otherwise}\n",
    "\\end{cases}\n",
    "$$\n",
    "\n",
    "- 其中 `β` 是一个超参数，控制“从 L2 到 L1”转换的阈值。\n",
    "- PyTorch 中默认 `β = 1`（以前版本中没有 β 这个参数）"
   ]
  },
  {
   "cell_type": "code",
   "execution_count": 1,
   "metadata": {},
   "outputs": [
    {
     "name": "stdout",
     "output_type": "stream",
     "text": [
      "tensor(0.0083)\n"
     ]
    }
   ],
   "source": [
    "import torch\n",
    "import torch.nn  as nn\n",
    "\n",
    "y_true = torch.tensor(data=[1.2, 1.5, 2.0], dtype=torch.float32)\n",
    "y_pred = torch.tensor(data=[1.3, 1.7, 2.0], dtype=torch.float32)\n",
    "\n",
    "loss_fn = nn.SmoothL1Loss()\n",
    "loss = loss_fn(y_pred, y_true)\n",
    "print(loss)"
   ]
  }
 ],
 "metadata": {
  "kernelspec": {
   "display_name": "AI",
   "language": "python",
   "name": "python3"
  },
  "language_info": {
   "codemirror_mode": {
    "name": "ipython",
    "version": 3
   },
   "file_extension": ".py",
   "mimetype": "text/x-python",
   "name": "python",
   "nbconvert_exporter": "python",
   "pygments_lexer": "ipython3",
   "version": "3.11.1"
  }
 },
 "nbformat": 4,
 "nbformat_minor": 2
}
