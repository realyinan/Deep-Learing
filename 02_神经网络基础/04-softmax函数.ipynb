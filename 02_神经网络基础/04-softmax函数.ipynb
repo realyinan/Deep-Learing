{
 "cells": [
  {
   "cell_type": "code",
   "execution_count": 9,
   "metadata": {},
   "outputs": [],
   "source": [
    "import torch"
   ]
  },
  {
   "cell_type": "markdown",
   "metadata": {},
   "source": [
    "Softmax 是一种**将一组数“压缩”为概率分布**的函数，常用于多分类问题的最后一层。\n",
    "\n",
    "---\n",
    "\n",
    "### ✅ 数学定义：\n",
    "\n",
    "假设输入是一个向量 $ \\mathbf{x} = [x_1, x_2, ..., x_n] $，那么：\n",
    "\n",
    "$$\n",
    "\\text{Softmax}(x_i) = \\frac{e^{x_i}}{\\sum_{j=1}^n e^{x_j}}\n",
    "$$\n",
    "\n",
    "也就是说，每个元素都取指数后除以所有元素指数之和。\n",
    "\n",
    "---\n",
    "\n",
    "### 🧠 它有几个重要特性：\n",
    "\n",
    "- 输出总和为 1：可以理解为“概率”；\n",
    "- 每个输出都在 $ (0, 1) $ 之间；\n",
    "- 哪个 $ x_i $ 越大，对应的概率就越高；\n",
    "- 会把差距放大（指数运算）——**强调最大值、压制其他值**；\n",
    "\n",
    "---\n",
    "\n",
    "## 📌 总结一句话：\n",
    "\n",
    "> **Softmax 是把一堆实数“变成概率”的工具，常用于分类任务的输出层**，数值越大，对应类别概率就越高。\n"
   ]
  },
  {
   "cell_type": "code",
   "execution_count": 10,
   "metadata": {},
   "outputs": [
    {
     "name": "stdout",
     "output_type": "stream",
     "text": [
      "tensor([[0.0212, 0.0177, 0.0202, 0.0202, 0.0638, 0.0287, 0.0185, 0.0522, 0.0183,\n",
      "         0.7392],\n",
      "        [0.0212, 0.0177, 0.0202, 0.7392, 0.0638, 0.0287, 0.0185, 0.0522, 0.0183,\n",
      "         0.0202]])\n"
     ]
    }
   ],
   "source": [
    "x = torch.tensor(data=[\n",
    "    [0.2, 0.02, 0.15, 0.15, 1.3, 0.5, 0.06, 1.1, 0.05, 3.75],\n",
    "    [0.2, 0.02, 0.15, 3.75, 1.3, 0.5, 0.06, 1.1, 0.05, 0.15]])\n",
    "y = torch.softmax(x, dim=1)\n",
    "print(y)"
   ]
  }
 ],
 "metadata": {
  "kernelspec": {
   "display_name": "AI",
   "language": "python",
   "name": "python3"
  },
  "language_info": {
   "codemirror_mode": {
    "name": "ipython",
    "version": 3
   },
   "file_extension": ".py",
   "mimetype": "text/x-python",
   "name": "python",
   "nbconvert_exporter": "python",
   "pygments_lexer": "ipython3",
   "version": "3.11.1"
  }
 },
 "nbformat": 4,
 "nbformat_minor": 2
}
