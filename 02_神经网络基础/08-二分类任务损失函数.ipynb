{
 "cells": [
  {
   "cell_type": "markdown",
   "metadata": {},
   "source": [
    "在二分类任务中，最常用的损失函数是 **二元交叉熵损失函数（Binary Cross-Entropy Loss）**，也称为 **对数损失（log loss）**。其数学表达式如下：\n",
    "\n",
    "---\n",
    "\n",
    "### 🎯 **Binary Cross-Entropy Loss（简写为 BCE）**：\n",
    "\n",
    "假设：\n",
    "\n",
    "- $ y $ 是真实标签（0 或 1）；\n",
    "- $ \\hat{y} $ 是模型预测的属于类别1的概率（在0到1之间）；\n",
    "\n",
    "损失函数定义为：\n",
    "\n",
    "$$\n",
    "\\mathcal{L}_{BCE} = - \\left[ y \\cdot \\log(\\hat{y}) + (1 - y) \\cdot \\log(1 - \\hat{y}) \\right]\n",
    "$$\n",
    "\n",
    "---\n",
    "\n",
    "### ✅ 说明：\n",
    "- 如果 $ y = 1 $，只保留第一项 $ -\\log(\\hat{y}) $，也就是希望模型预测的 $ \\hat{y} $ 越接近1越好；\n",
    "- 如果 $ y = 0 $，只保留第二项 $ -\\log(1 - \\hat{y}) $，希望模型预测的 $ \\hat{y} $ 越接近0越好；\n",
    "- 如果预测和真实标签越接近，损失越小。"
   ]
  },
  {
   "cell_type": "code",
   "execution_count": 2,
   "metadata": {},
   "outputs": [
    {
     "name": "stdout",
     "output_type": "stream",
     "text": [
      "tensor(0.6868, grad_fn=<BinaryCrossEntropyBackward0>)\n"
     ]
    }
   ],
   "source": [
    "import torch\n",
    "import torch.nn as nn\n",
    "\n",
    "y_true = torch.tensor(data=[0, 1, 0], dtype=torch.float32)\n",
    "y_pred = torch.tensor(data=[0.6901, 0.5459, 0.2469], requires_grad=True, dtype=torch.float32)\n",
    "\n",
    "loss_fn = nn.BCELoss()\n",
    "loss = loss_fn(y_pred, y_true)\n",
    "\n",
    "print(loss)"
   ]
  },
  {
   "cell_type": "code",
   "execution_count": 5,
   "metadata": {},
   "outputs": [
    {
     "name": "stdout",
     "output_type": "stream",
     "text": [
      "tensor([[ 0.6219],\n",
      "        [-0.4922]], grad_fn=<AddmmBackward0>)\n",
      "loss = 0.4534\n"
     ]
    }
   ],
   "source": [
    "\n",
    "# 简单模型：2维输入 -> 1维输出\n",
    "model = nn.Linear(2, 1)\n",
    "\n",
    "# 损失函数（自动加 sigmoid）\n",
    "criterion = nn.BCEWithLogitsLoss()\n",
    "\n",
    "# 输入样本（batch_size=2）\n",
    "x = torch.tensor([[1.0, 2.0], [2.0, 1.0]])  # shape: [2, 2]\n",
    "y = torch.tensor([[1.0], [0.0]])           # shape: [2, 1]\n",
    "\n",
    "# 前向传播：得到 logits\n",
    "logits = model(x)\n",
    "print(logits)\n",
    "\n",
    "# 计算损失\n",
    "loss = criterion(logits, y)\n",
    "\n",
    "print(f\"loss = {loss.item():.4f}\")\n"
   ]
  },
  {
   "cell_type": "code",
   "execution_count": 6,
   "metadata": {},
   "outputs": [
    {
     "data": {
      "text/plain": [
       "tensor([[0.6506],\n",
       "        [0.3794]], grad_fn=<SigmoidBackward0>)"
      ]
     },
     "execution_count": 6,
     "metadata": {},
     "output_type": "execute_result"
    }
   ],
   "source": [
    "torch.sigmoid(input=logits)"
   ]
  }
 ],
 "metadata": {
  "kernelspec": {
   "display_name": "AI",
   "language": "python",
   "name": "python3"
  },
  "language_info": {
   "codemirror_mode": {
    "name": "ipython",
    "version": 3
   },
   "file_extension": ".py",
   "mimetype": "text/x-python",
   "name": "python",
   "nbconvert_exporter": "python",
   "pygments_lexer": "ipython3",
   "version": "3.11.1"
  }
 },
 "nbformat": 4,
 "nbformat_minor": 2
}
