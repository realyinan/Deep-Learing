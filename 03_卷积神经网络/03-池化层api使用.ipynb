{
 "cells": [
  {
   "cell_type": "markdown",
   "metadata": {},
   "source": [
    "## 🌊 一、池化层的作用是啥？\n",
    "\n",
    "池化层的主要目的是：\n",
    "\n",
    "- **降低特征图的尺寸**（减少计算量）\n",
    "- **保留主要特征**（对小的变形、偏移不敏感）\n",
    "- **减少过拟合**\n",
    "\n",
    "它不像卷积层那样“学参数”，池化层**没有可学习参数**，只是一种固定操作。\n",
    "\n",
    "---\n",
    "\n",
    "## 🔹 二、常见的池化方式\n",
    "\n",
    "### 1. **最大池化（Max Pooling）**\n",
    "取池化窗口中**最大的数**。\n",
    "\n",
    "- 常用，提取最强的激活值。\n",
    "- 对边缘、纹理特别敏感。\n",
    "\n",
    "### 2. **平均池化（Average Pooling）**\n",
    "取池化窗口中的**平均值**。\n",
    "\n",
    "- 比较平滑，对整体感知有效。\n",
    "- 现在不如最大池化常用。\n",
    "\n",
    "### 3. **全局平均池化（Global Average Pooling）**\n",
    "直接对**整张特征图**求平均（比如把 `7x7` 直接变成 `1x1`），通常用于分类的最后阶段。\n",
    "\n",
    "---\n",
    "\n",
    "## 🔹 三、池化计算举例\n",
    "\n",
    "假设你有一个输入特征图是：\n",
    "\n",
    "```\n",
    "1 3 2 4  \n",
    "5 6 1 2  \n",
    "7 8 9 4  \n",
    "4 5 2 1  \n",
    "```\n",
    "\n",
    "用 `2x2` 的最大池化，步长为 2（不重叠），窗口滑动方式如下：\n",
    "\n",
    "- 第一个 `2x2`：`[1 3; 5 6]` → 最大值是 6  \n",
    "- 第二个 `2x2`：`[2 4; 1 2]` → 最大值是 4  \n",
    "- 第三个 `2x2`：`[7 8; 4 5]` → 最大值是 8  \n",
    "- 第四个 `2x2`：`[9 4; 2 1]` → 最大值是 9  \n",
    "\n",
    "最终输出是：\n",
    "\n",
    "```\n",
    "6 4  \n",
    "8 9  \n",
    "```\n",
    "\n",
    "这就把 `4x4` 的图压缩成了 `2x2`。\n",
    "\n",
    "---\n",
    "\n",
    "## 🔹 四、输出尺寸计算公式\n",
    "\n",
    "和卷积类似：\n",
    "\n",
    "$$\n",
    "\\text{输出大小} = \\left\\lfloor \\frac{输入大小 - 池化窗口大小}{步长} \\right\\rfloor + 1\n",
    "$$"
   ]
  },
  {
   "cell_type": "code",
   "execution_count": 1,
   "metadata": {},
   "outputs": [],
   "source": [
    "import torch\n",
    "import torch.nn as nn"
   ]
  },
  {
   "cell_type": "code",
   "execution_count": 3,
   "metadata": {},
   "outputs": [
    {
     "name": "stdout",
     "output_type": "stream",
     "text": [
      "tensor([[[4., 5.],\n",
      "         [7., 8.]]])\n"
     ]
    }
   ],
   "source": [
    "inputs = torch.tensor(data=[[[0, 1, 2], [3, 4, 5], [6, 7, 8]]], dtype=torch.float32)\n",
    "\n",
    "# 创建池化层\n",
    "pool = nn.MaxPool2d(kernel_size=(2, 2), stride=1, padding=0)\n",
    "outputs = pool(inputs)\n",
    "print(outputs)"
   ]
  },
  {
   "cell_type": "code",
   "execution_count": 4,
   "metadata": {},
   "outputs": [
    {
     "name": "stdout",
     "output_type": "stream",
     "text": [
      "tensor([[[2., 3.],\n",
      "         [5., 6.]]])\n"
     ]
    }
   ],
   "source": [
    "pool = nn.AvgPool2d(kernel_size=(2, 2), stride=1, padding=0)\n",
    "outputs = pool(inputs)\n",
    "print(outputs)"
   ]
  },
  {
   "cell_type": "code",
   "execution_count": 6,
   "metadata": {},
   "outputs": [
    {
     "name": "stdout",
     "output_type": "stream",
     "text": [
      "torch.Size([3, 3, 3])\n",
      "tensor([[[ 4.,  5.],\n",
      "         [ 7.,  8.]],\n",
      "\n",
      "        [[50., 60.],\n",
      "         [80., 90.]],\n",
      "\n",
      "        [[55., 66.],\n",
      "         [88., 99.]]])\n"
     ]
    }
   ],
   "source": [
    "inputs = torch.tensor([[[0, 1, 2], [3, 4, 5], [6, 7, 8]],\n",
    "[[10, 20, 30], [40, 50, 60], [70, 80, 90]],\n",
    "[[11, 22, 33], [44, 55, 66], [77, 88, 99]]], dtype=torch.float32)\n",
    "print(inputs.shape)\n",
    "pool = nn.MaxPool2d(kernel_size=(2, 2), stride=1, padding=0)\n",
    "outputs = pool(inputs)\n",
    "print(outputs)"
   ]
  },
  {
   "cell_type": "code",
   "execution_count": null,
   "metadata": {},
   "outputs": [],
   "source": []
  }
 ],
 "metadata": {
  "kernelspec": {
   "display_name": "AI",
   "language": "python",
   "name": "python3"
  },
  "language_info": {
   "codemirror_mode": {
    "name": "ipython",
    "version": 3
   },
   "file_extension": ".py",
   "mimetype": "text/x-python",
   "name": "python",
   "nbconvert_exporter": "python",
   "pygments_lexer": "ipython3",
   "version": "3.11.1"
  }
 },
 "nbformat": 4,
 "nbformat_minor": 2
}
